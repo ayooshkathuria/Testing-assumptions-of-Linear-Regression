{
 "cells": [
  {
   "cell_type": "markdown",
   "metadata": {},
   "source": [
    "**Linear Regression** is often the first algorithm that is taught in an introductory machine learning course. It's also one of the first machine learning algorithms people implement in code. However, results of fitting data using Linear Regression can be very misleading if the assumptions of Linear Regression are not satisfied by the dataset you are using. \n"
   ]
  },
  {
   "cell_type": "markdown",
   "metadata": {},
   "source": [
    "A very basic paramter that beginners use to measure the accuracy of the model is the **r-squared coefficient**. However, r-sqaured coeffiecient can be only trusted when the assumptions of Linear Regression are met. You could end up with a model that does a poor job of modelling the data, yet gives a high r-sqaured value. We're going to take a look at such an example as we try to predict the closing price of a Google's stock for the next 10 days. \n"
   ]
  },
  {
   "cell_type": "markdown",
   "metadata": {},
   "source": [
    "We're going to use Quandl to get the stock data, the Pandas library to manipulate the data, and statsmodel module to train our model. I've regressed (Get the pun?) from using sklearn, which I'd normally use because Statsmodel has some really neat regression analysis features (such as a R-like summary table), which I can't seem to find in sklearn. "
   ]
  },
  {
   "cell_type": "code",
   "execution_count": 7,
   "metadata": {
    "collapsed": false
   },
   "outputs": [],
   "source": [
    "%matplotlib inline\n",
    "\n",
    "import quandl as qd #Library to get the stock data\n",
    "import numpy as np #A Fast numerical Library\n",
    "import pickle #To save the classifier for later resuse\n",
    "import pandas as pd #Library to manpulate data\n",
    "import datetime\n",
    "import statsmodels.formula.api as smf #Used to train the model\n",
    "import matplotlib.pyplot as plt\n",
    "plt.rcParams[\"figure.figsize\"] = [10,6]\n",
    "from sklearn import preprocessing\n",
    "from IPython.display import display\n",
    "import math"
   ]
  },
  {
   "cell_type": "markdown",
   "metadata": {
    "collapsed": true
   },
   "source": [
    "The first thing we are going to do here is pull the data from Quandl. Quandl is a website that hosts a bunch of datasets that you could directly load into python using the quandl module. "
   ]
  },
  {
   "cell_type": "code",
   "execution_count": 8,
   "metadata": {
    "collapsed": false
   },
   "outputs": [
    {
     "data": {
      "text/html": [
       "<div>\n",
       "<table border=\"1\" class=\"dataframe\">\n",
       "  <thead>\n",
       "    <tr style=\"text-align: right;\">\n",
       "      <th></th>\n",
       "      <th>Open</th>\n",
       "      <th>High</th>\n",
       "      <th>Low</th>\n",
       "      <th>Close</th>\n",
       "      <th>Volume</th>\n",
       "      <th>Ex-Dividend</th>\n",
       "      <th>Split Ratio</th>\n",
       "      <th>Adj. Open</th>\n",
       "      <th>Adj. High</th>\n",
       "      <th>Adj. Low</th>\n",
       "      <th>Adj. Close</th>\n",
       "      <th>Adj. Volume</th>\n",
       "    </tr>\n",
       "    <tr>\n",
       "      <th>Date</th>\n",
       "      <th></th>\n",
       "      <th></th>\n",
       "      <th></th>\n",
       "      <th></th>\n",
       "      <th></th>\n",
       "      <th></th>\n",
       "      <th></th>\n",
       "      <th></th>\n",
       "      <th></th>\n",
       "      <th></th>\n",
       "      <th></th>\n",
       "      <th></th>\n",
       "    </tr>\n",
       "  </thead>\n",
       "  <tbody>\n",
       "    <tr>\n",
       "      <th>2004-08-19</th>\n",
       "      <td>100.01</td>\n",
       "      <td>104.06</td>\n",
       "      <td>95.96</td>\n",
       "      <td>100.335</td>\n",
       "      <td>44659000.0</td>\n",
       "      <td>0.0</td>\n",
       "      <td>1.0</td>\n",
       "      <td>50.159839</td>\n",
       "      <td>52.191109</td>\n",
       "      <td>48.128568</td>\n",
       "      <td>50.322842</td>\n",
       "      <td>44659000.0</td>\n",
       "    </tr>\n",
       "    <tr>\n",
       "      <th>2004-08-20</th>\n",
       "      <td>101.01</td>\n",
       "      <td>109.08</td>\n",
       "      <td>100.50</td>\n",
       "      <td>108.310</td>\n",
       "      <td>22834300.0</td>\n",
       "      <td>0.0</td>\n",
       "      <td>1.0</td>\n",
       "      <td>50.661387</td>\n",
       "      <td>54.708881</td>\n",
       "      <td>50.405597</td>\n",
       "      <td>54.322689</td>\n",
       "      <td>22834300.0</td>\n",
       "    </tr>\n",
       "    <tr>\n",
       "      <th>2004-08-23</th>\n",
       "      <td>110.76</td>\n",
       "      <td>113.48</td>\n",
       "      <td>109.05</td>\n",
       "      <td>109.400</td>\n",
       "      <td>18256100.0</td>\n",
       "      <td>0.0</td>\n",
       "      <td>1.0</td>\n",
       "      <td>55.551482</td>\n",
       "      <td>56.915693</td>\n",
       "      <td>54.693835</td>\n",
       "      <td>54.869377</td>\n",
       "      <td>18256100.0</td>\n",
       "    </tr>\n",
       "    <tr>\n",
       "      <th>2004-08-24</th>\n",
       "      <td>111.24</td>\n",
       "      <td>111.60</td>\n",
       "      <td>103.57</td>\n",
       "      <td>104.870</td>\n",
       "      <td>15247300.0</td>\n",
       "      <td>0.0</td>\n",
       "      <td>1.0</td>\n",
       "      <td>55.792225</td>\n",
       "      <td>55.972783</td>\n",
       "      <td>51.945350</td>\n",
       "      <td>52.597363</td>\n",
       "      <td>15247300.0</td>\n",
       "    </tr>\n",
       "    <tr>\n",
       "      <th>2004-08-25</th>\n",
       "      <td>104.76</td>\n",
       "      <td>108.00</td>\n",
       "      <td>103.88</td>\n",
       "      <td>106.000</td>\n",
       "      <td>9188600.0</td>\n",
       "      <td>0.0</td>\n",
       "      <td>1.0</td>\n",
       "      <td>52.542193</td>\n",
       "      <td>54.167209</td>\n",
       "      <td>52.100830</td>\n",
       "      <td>53.164113</td>\n",
       "      <td>9188600.0</td>\n",
       "    </tr>\n",
       "  </tbody>\n",
       "</table>\n",
       "</div>"
      ],
      "text/plain": [
       "              Open    High     Low    Close      Volume  Ex-Dividend  \\\n",
       "Date                                                                   \n",
       "2004-08-19  100.01  104.06   95.96  100.335  44659000.0          0.0   \n",
       "2004-08-20  101.01  109.08  100.50  108.310  22834300.0          0.0   \n",
       "2004-08-23  110.76  113.48  109.05  109.400  18256100.0          0.0   \n",
       "2004-08-24  111.24  111.60  103.57  104.870  15247300.0          0.0   \n",
       "2004-08-25  104.76  108.00  103.88  106.000   9188600.0          0.0   \n",
       "\n",
       "            Split Ratio  Adj. Open  Adj. High   Adj. Low  Adj. Close  \\\n",
       "Date                                                                   \n",
       "2004-08-19          1.0  50.159839  52.191109  48.128568   50.322842   \n",
       "2004-08-20          1.0  50.661387  54.708881  50.405597   54.322689   \n",
       "2004-08-23          1.0  55.551482  56.915693  54.693835   54.869377   \n",
       "2004-08-24          1.0  55.792225  55.972783  51.945350   52.597363   \n",
       "2004-08-25          1.0  52.542193  54.167209  52.100830   53.164113   \n",
       "\n",
       "            Adj. Volume  \n",
       "Date                     \n",
       "2004-08-19   44659000.0  \n",
       "2004-08-20   22834300.0  \n",
       "2004-08-23   18256100.0  \n",
       "2004-08-24   15247300.0  \n",
       "2004-08-25    9188600.0  "
      ]
     },
     "metadata": {},
     "output_type": "display_data"
    }
   ],
   "source": [
    "# api_key = 'fiz_cgR7TxgcofzoHqnA'\n",
    "df = qd.get(\"WIKI/GOOGL\")\n",
    "display(df.head())\n"
   ]
  },
  {
   "cell_type": "markdown",
   "metadata": {},
   "source": [
    "I am not going to use the features the way they are given in the dataframe. Though feature selection and feature engineering form arguably the most critical part of the model training process, I'm going to skim over it for now, so as to focus on the main topic here, i.e, testing the statistical assumptions of Linear Regression. \n",
    "\n",
    "You'll see a lot of columns in the table come in two flavours; Regular and the Adjusted ones. The adjusted ones account for stock splits (One stock becomes two, and the value of each stock is halfed), whereas the regular one doesn't, so we are going to drop those columns. "
   ]
  },
  {
   "cell_type": "code",
   "execution_count": 9,
   "metadata": {
    "collapsed": false
   },
   "outputs": [],
   "source": [
    "df = df[['Adj. Open',  'Adj. High',  'Adj. Low',  'Adj. Close', 'Adj. Volume']]\n",
    "df.columns = ['Open',  'High',  'Low',  'Close', 'Volume']"
   ]
  },
  {
   "cell_type": "markdown",
   "metadata": {},
   "source": [
    "We will try to predict the price of stock for the next 10 days. For this we'll create our target variable and name it 'prediction'. In order to generate the entries for this variable in our training set, we lag the values of *'Adj. Close'* by 10 rows (days).  We'll also drop the bottom 10 rows which will have NaN values for the *predict* column. "
   ]
  },
  {
   "cell_type": "code",
   "execution_count": 10,
   "metadata": {
    "collapsed": false
   },
   "outputs": [],
   "source": [
    "forecast_col = 'Close'\n",
    "df.fillna(value=-99999, inplace=True)\n",
    "forecast_out = int(math.ceil(0.01 * len(df)))\n",
    "df['predict'] = df[forecast_col].shift(forecast_out)\n"
   ]
  },
  {
   "cell_type": "code",
   "execution_count": 11,
   "metadata": {
    "collapsed": false
   },
   "outputs": [],
   "source": [
    "df.dropna(inplace = True)"
   ]
  },
  {
   "cell_type": "code",
   "execution_count": 12,
   "metadata": {
    "collapsed": false
   },
   "outputs": [
    {
     "data": {
      "text/html": [
       "<div>\n",
       "<table border=\"1\" class=\"dataframe\">\n",
       "  <thead>\n",
       "    <tr style=\"text-align: right;\">\n",
       "      <th></th>\n",
       "      <th>Open</th>\n",
       "      <th>High</th>\n",
       "      <th>Low</th>\n",
       "      <th>Close</th>\n",
       "      <th>Volume</th>\n",
       "      <th>predict</th>\n",
       "    </tr>\n",
       "  </thead>\n",
       "  <tbody>\n",
       "    <tr>\n",
       "      <th>Open</th>\n",
       "      <td>1.000000</td>\n",
       "      <td>0.999859</td>\n",
       "      <td>0.999798</td>\n",
       "      <td>0.999657</td>\n",
       "      <td>-0.560961</td>\n",
       "      <td>0.983204</td>\n",
       "    </tr>\n",
       "    <tr>\n",
       "      <th>High</th>\n",
       "      <td>0.999859</td>\n",
       "      <td>1.000000</td>\n",
       "      <td>0.999768</td>\n",
       "      <td>0.999820</td>\n",
       "      <td>-0.558750</td>\n",
       "      <td>0.983367</td>\n",
       "    </tr>\n",
       "    <tr>\n",
       "      <th>Low</th>\n",
       "      <td>0.999798</td>\n",
       "      <td>0.999768</td>\n",
       "      <td>1.000000</td>\n",
       "      <td>0.999856</td>\n",
       "      <td>-0.564822</td>\n",
       "      <td>0.982715</td>\n",
       "    </tr>\n",
       "    <tr>\n",
       "      <th>Close</th>\n",
       "      <td>0.999657</td>\n",
       "      <td>0.999820</td>\n",
       "      <td>0.999856</td>\n",
       "      <td>1.000000</td>\n",
       "      <td>-0.561983</td>\n",
       "      <td>0.982962</td>\n",
       "    </tr>\n",
       "    <tr>\n",
       "      <th>Volume</th>\n",
       "      <td>-0.560961</td>\n",
       "      <td>-0.558750</td>\n",
       "      <td>-0.564822</td>\n",
       "      <td>-0.561983</td>\n",
       "      <td>1.000000</td>\n",
       "      <td>-0.564441</td>\n",
       "    </tr>\n",
       "    <tr>\n",
       "      <th>predict</th>\n",
       "      <td>0.983204</td>\n",
       "      <td>0.983367</td>\n",
       "      <td>0.982715</td>\n",
       "      <td>0.982962</td>\n",
       "      <td>-0.564441</td>\n",
       "      <td>1.000000</td>\n",
       "    </tr>\n",
       "  </tbody>\n",
       "</table>\n",
       "</div>"
      ],
      "text/plain": [
       "             Open      High       Low     Close    Volume   predict\n",
       "Open     1.000000  0.999859  0.999798  0.999657 -0.560961  0.983204\n",
       "High     0.999859  1.000000  0.999768  0.999820 -0.558750  0.983367\n",
       "Low      0.999798  0.999768  1.000000  0.999856 -0.564822  0.982715\n",
       "Close    0.999657  0.999820  0.999856  1.000000 -0.561983  0.982962\n",
       "Volume  -0.560961 -0.558750 -0.564822 -0.561983  1.000000 -0.564441\n",
       "predict  0.983204  0.983367  0.982715  0.982962 -0.564441  1.000000"
      ]
     },
     "execution_count": 12,
     "metadata": {},
     "output_type": "execute_result"
    }
   ],
   "source": [
    "df.corr()"
   ]
  },
  {
   "cell_type": "markdown",
   "metadata": {},
   "source": [
    "Here we see that the the variables *Open, High, Low, Close* are highly correlated. Let us drop all of them but *Close* variable while training our model. I've also dropped *Volume* to keep things simple. We could try another model later which has *Volume* in it too. Let us train our first linear model. "
   ]
  },
  {
   "cell_type": "code",
   "execution_count": 13,
   "metadata": {
    "collapsed": false
   },
   "outputs": [
    {
     "data": {
      "text/html": [
       "<table class=\"simpletable\">\n",
       "<caption>OLS Regression Results</caption>\n",
       "<tr>\n",
       "  <th>Dep. Variable:</th>         <td>predict</td>     <th>  R-squared:         </th> <td>   0.966</td> \n",
       "</tr>\n",
       "<tr>\n",
       "  <th>Model:</th>                   <td>OLS</td>       <th>  Adj. R-squared:    </th> <td>   0.966</td> \n",
       "</tr>\n",
       "<tr>\n",
       "  <th>Method:</th>             <td>Least Squares</td>  <th>  F-statistic:       </th> <td>8.662e+04</td>\n",
       "</tr>\n",
       "<tr>\n",
       "  <th>Date:</th>             <td>Sun, 16 Oct 2016</td> <th>  Prob (F-statistic):</th>  <td>  0.00</td>  \n",
       "</tr>\n",
       "<tr>\n",
       "  <th>Time:</th>                 <td>22:34:40</td>     <th>  Log-Likelihood:    </th> <td> -14927.</td> \n",
       "</tr>\n",
       "<tr>\n",
       "  <th>No. Observations:</th>      <td>  3031</td>      <th>  AIC:               </th> <td>2.986e+04</td>\n",
       "</tr>\n",
       "<tr>\n",
       "  <th>Df Residuals:</th>          <td>  3029</td>      <th>  BIC:               </th> <td>2.987e+04</td>\n",
       "</tr>\n",
       "<tr>\n",
       "  <th>Df Model:</th>              <td>     1</td>      <th>                     </th>     <td> </td>    \n",
       "</tr>\n",
       "<tr>\n",
       "  <th>Covariance Type:</th>      <td>nonrobust</td>    <th>                     </th>     <td> </td>    \n",
       "</tr>\n",
       "</table>\n",
       "<table class=\"simpletable\">\n",
       "<tr>\n",
       "      <td></td>         <th>coef</th>     <th>std err</th>      <th>t</th>      <th>P>|t|</th> <th>[95.0% Conf. Int.]</th> \n",
       "</tr>\n",
       "<tr>\n",
       "  <th>Intercept</th> <td>    4.8595</td> <td>    1.292</td> <td>    3.761</td> <td> 0.000</td> <td>    2.326     7.393</td>\n",
       "</tr>\n",
       "<tr>\n",
       "  <th>Close</th>     <td>    0.9641</td> <td>    0.003</td> <td>  294.316</td> <td> 0.000</td> <td>    0.958     0.971</td>\n",
       "</tr>\n",
       "</table>\n",
       "<table class=\"simpletable\">\n",
       "<tr>\n",
       "  <th>Omnibus:</th>       <td>50.193</td> <th>  Durbin-Watson:     </th> <td>   0.070</td>\n",
       "</tr>\n",
       "<tr>\n",
       "  <th>Prob(Omnibus):</th> <td> 0.000</td> <th>  Jarque-Bera (JB):  </th> <td>  95.329</td>\n",
       "</tr>\n",
       "<tr>\n",
       "  <th>Skew:</th>          <td>-0.050</td> <th>  Prob(JB):          </th> <td>1.99e-21</td>\n",
       "</tr>\n",
       "<tr>\n",
       "  <th>Kurtosis:</th>      <td> 3.863</td> <th>  Cond. No.          </th> <td>    842.</td>\n",
       "</tr>\n",
       "</table>"
      ],
      "text/plain": [
       "<class 'statsmodels.iolib.summary.Summary'>\n",
       "\"\"\"\n",
       "                            OLS Regression Results                            \n",
       "==============================================================================\n",
       "Dep. Variable:                predict   R-squared:                       0.966\n",
       "Model:                            OLS   Adj. R-squared:                  0.966\n",
       "Method:                 Least Squares   F-statistic:                 8.662e+04\n",
       "Date:                Sun, 16 Oct 2016   Prob (F-statistic):               0.00\n",
       "Time:                        22:34:40   Log-Likelihood:                -14927.\n",
       "No. Observations:                3031   AIC:                         2.986e+04\n",
       "Df Residuals:                    3029   BIC:                         2.987e+04\n",
       "Df Model:                           1                                         \n",
       "Covariance Type:            nonrobust                                         \n",
       "==============================================================================\n",
       "                 coef    std err          t      P>|t|      [95.0% Conf. Int.]\n",
       "------------------------------------------------------------------------------\n",
       "Intercept      4.8595      1.292      3.761      0.000         2.326     7.393\n",
       "Close          0.9641      0.003    294.316      0.000         0.958     0.971\n",
       "==============================================================================\n",
       "Omnibus:                       50.193   Durbin-Watson:                   0.070\n",
       "Prob(Omnibus):                  0.000   Jarque-Bera (JB):               95.329\n",
       "Skew:                          -0.050   Prob(JB):                     1.99e-21\n",
       "Kurtosis:                       3.863   Cond. No.                         842.\n",
       "==============================================================================\n",
       "\n",
       "Warnings:\n",
       "[1] Standard Errors assume that the covariance matrix of the errors is correctly specified.\n",
       "\"\"\""
      ]
     },
     "execution_count": 13,
     "metadata": {},
     "output_type": "execute_result"
    }
   ],
   "source": [
    "lm1 = smf.ols(formula='predict ~ Close', data=df).fit()\n",
    "lm1.summary()"
   ]
  },
  {
   "cell_type": "markdown",
   "metadata": {},
   "source": [
    "The above table is one of the reasons I've prefered the use of Statsmodels to sklearn. Don't worry, you don't need to understand the entire table for this tutorial. Right now, we need to look at **Adj. R-squared** which is 0.966. A lot of beginners think this is a suuficient to evaluate the quality of a linear model. However, there is other stuff that we can look for. \n",
    "\n",
    "An interesting feature is the **[95.0% Conf. Int.]** or the **Confidence Intervals** for the coefficients. What is exactly mean't by confidence intervals? We assume that the training set we use is sampled from a population. We then fit our model to the data. So, the value of a particular coefficient would lie in it's *95% confidence interval* about 95 out of every 100 times we sample and fit the training set. \n",
    "\n",
    "**You should be alarmed if zero also falls in the confidence interval of a coefficient.** This means that there's a considerable probability that value of coefficient is zero, which implies there's no relationship between the feature and our target. Another feature that can tell us about such a problem is the **p-value** represented by the **P>|t|** column. It basically measures that probability that zero is present the confidence interval. In other words, it measures whether the relationship we observe is merely a statistical fluke. \n",
    "\n",
    "Since we're using 95% confidence intervals, the p-value for all the coefficients must be less than 0.05. We could also look at the **T-value** given by **t** column, which measures the number of standard deviations the coefficient is away from zero. Typically, for 95% confidence intervals, T-value should be more than 4 in magnitude. \n",
    "\n",
    "The current model fulfills all the above criteria. High value of r-squares, all the p-values below 0.05, and all the t-values above 4. \n",
    "\n",
    "## Job Done! ##\n",
    "\n",
    "*Actually, no.*\n",
    "\n",
    "What people often miss is all the rules we've described above can only be trusted given the the data obeys the assumptions of Linear Regression. Which are, \n",
    "\n",
    "1. The relationship between the dependent variables and the independent variables is a linear and an additive one. \n",
    "2. Errors are statistically independendent, i.e. no correlation amongst errors. \n",
    "3. Homoscedasticity, or the constant variance of errors\n",
    "4. Errors are normally distributed. \n",
    "\n",
    "So, we must check the data for these assumptions, otherwise all the quality parameters don't mean anything.  Let us plot error vs time graph first. \n"
   ]
  },
  {
   "cell_type": "code",
   "execution_count": 14,
   "metadata": {
    "collapsed": false
   },
   "outputs": [
    {
     "data": {
      "text/plain": [
       "<matplotlib.text.Text at 0x117927550>"
      ]
     },
     "execution_count": 14,
     "metadata": {},
     "output_type": "execute_result"
    },
    {
     "data": {
      "image/png": "[encoded data removed]",
      "text/plain": [
       "<matplotlib.figure.Figure at 0x10381ad10>"
      ]
     },
     "metadata": {},
     "output_type": "display_data"
    }
   ],
   "source": [
    "preds = lm1.predict()  #Get the predictions for our training set.\n",
    "errors = preds - df[\"predict\"] #Calculate the errors\n",
    "time_data = np.array([df.iloc[i].name.to_datetime() for i in range(len(df))]) #generate an array of dates \n",
    "plt.bar(time_data, errors)\n",
    "plt.ylabel(\"Errors\")\n",
    "plt.xlabel(\"Time\")\n",
    "plt.title(\"Errors vs Time plot\")\n",
    "    \n"
   ]
  },
  {
   "cell_type": "markdown",
   "metadata": {},
   "source": [
    "It's very easy to see that assumptions 2 and 3 are clearly violated. First of all we see that the errors don't have a constant variance. Secondly, there's strong correlations amongst errors. How can we say that? we see postitive errors are followed by positive errors while the negative ones are followed by negative ones. When such correlation happens in a time series, (like stocks here), it's also known as **autocorrelation**(In this case, it's positive autocorrelation). Infact, to conclude whether the errors have a correlation by having a look at their plots can be a tricky bargain if the results ae not as obvious as they are in the graph above. Thankfully, pandas provides us with a an option to calculate autocorrelation. "
   ]
  },
  {
   "cell_type": "code",
   "execution_count": 15,
   "metadata": {
    "collapsed": false
   },
   "outputs": [
    {
     "data": {
      "text/plain": [
       "(0.96520014498479312, 0.92691457809339961, 0.88795274990286011)"
      ]
     },
     "execution_count": 15,
     "metadata": {},
     "output_type": "execute_result"
    }
   ],
   "source": [
    "errors.autocorr(1),errors.autocorr(2),errors.autocorr(3),"
   ]
  },
  {
   "cell_type": "markdown",
   "metadata": {},
   "source": [
    "The parameter of the function is the lag between the errors for which the autocorrelation is calculated. The autocorrelation in our model is alarmilngly high, and therefore this model can't be trusted. Although, we've got enough evidence to reject the model, let's also check whether the errors are normally distributed or not.\n"
   ]
  },
  {
   "cell_type": "code",
   "execution_count": 16,
   "metadata": {
    "collapsed": false
   },
   "outputs": [
    {
     "data": {
      "text/plain": [
       "<matplotlib.text.Text at 0x11a5fac50>"
      ]
     },
     "execution_count": 16,
     "metadata": {},
     "output_type": "execute_result"
    },
    {
     "data": {
      "image/png": "[encoded data removed]",
      "text/plain": [
       "<matplotlib.figure.Figure at 0x1179387d0>"
      ]
     },
     "metadata": {},
     "output_type": "display_data"
    }
   ],
   "source": [
    "errors = lm1.predict() - df[\"predict\"]\n",
    "plt.hist(errors, bins = 100)\n",
    "plt.xlabel(\"Errors\")\n",
    "plt.ylabel(\"Frequency\")\n",
    "plt.title(\"Distribution of Errors\")\n"
   ]
  },
  {
   "cell_type": "markdown",
   "metadata": {},
   "source": [
    "The problem of normality with errors is not as big as the problem with other two assumptions, but we could still improve on this front. \n",
    "\n",
    "Now, what can we do? An alternative is to also include *Volume* feature while training model. A lot of times, the  violations of assumptions can arise if we leave out important features while training the model. Then, the errors we observe will contain the unmodelled effects of such features, and thus, will violate the assumptions. Let's give it a go. \n"
   ]
  },
  {
   "cell_type": "code",
   "execution_count": 17,
   "metadata": {
    "collapsed": false
   },
   "outputs": [
    {
     "data": {
      "text/html": [
       "<table class=\"simpletable\">\n",
       "<caption>OLS Regression Results</caption>\n",
       "<tr>\n",
       "  <th>Dep. Variable:</th>         <td>predict</td>     <th>  R-squared:         </th> <td>   0.966</td> \n",
       "</tr>\n",
       "<tr>\n",
       "  <th>Model:</th>                   <td>OLS</td>       <th>  Adj. R-squared:    </th> <td>   0.966</td> \n",
       "</tr>\n",
       "<tr>\n",
       "  <th>Method:</th>             <td>Least Squares</td>  <th>  F-statistic:       </th> <td>4.358e+04</td>\n",
       "</tr>\n",
       "<tr>\n",
       "  <th>Date:</th>             <td>Sun, 16 Oct 2016</td> <th>  Prob (F-statistic):</th>  <td>  0.00</td>  \n",
       "</tr>\n",
       "<tr>\n",
       "  <th>Time:</th>                 <td>22:34:53</td>     <th>  Log-Likelihood:    </th> <td> -14917.</td> \n",
       "</tr>\n",
       "<tr>\n",
       "  <th>No. Observations:</th>      <td>  3031</td>      <th>  AIC:               </th> <td>2.984e+04</td>\n",
       "</tr>\n",
       "<tr>\n",
       "  <th>Df Residuals:</th>          <td>  3028</td>      <th>  BIC:               </th> <td>2.986e+04</td>\n",
       "</tr>\n",
       "<tr>\n",
       "  <th>Df Model:</th>              <td>     2</td>      <th>                     </th>     <td> </td>    \n",
       "</tr>\n",
       "<tr>\n",
       "  <th>Covariance Type:</th>      <td>nonrobust</td>    <th>                     </th>     <td> </td>    \n",
       "</tr>\n",
       "</table>\n",
       "<table class=\"simpletable\">\n",
       "<tr>\n",
       "      <td></td>         <th>coef</th>     <th>std err</th>      <th>t</th>      <th>P>|t|</th> <th>[95.0% Conf. Int.]</th> \n",
       "</tr>\n",
       "<tr>\n",
       "  <th>Intercept</th> <td>   11.4546</td> <td>    1.984</td> <td>    5.772</td> <td> 0.000</td> <td>    7.564    15.346</td>\n",
       "</tr>\n",
       "<tr>\n",
       "  <th>Close</th>     <td>    0.9544</td> <td>    0.004</td> <td>  241.714</td> <td> 0.000</td> <td>    0.947     0.962</td>\n",
       "</tr>\n",
       "<tr>\n",
       "  <th>Volume</th>    <td>-3.782e-07</td> <td> 8.66e-08</td> <td>   -4.369</td> <td> 0.000</td> <td>-5.48e-07 -2.08e-07</td>\n",
       "</tr>\n",
       "</table>\n",
       "<table class=\"simpletable\">\n",
       "<tr>\n",
       "  <th>Omnibus:</th>       <td>53.552</td> <th>  Durbin-Watson:     </th> <td>   0.073</td>\n",
       "</tr>\n",
       "<tr>\n",
       "  <th>Prob(Omnibus):</th> <td> 0.000</td> <th>  Jarque-Bera (JB):  </th> <td> 106.582</td>\n",
       "</tr>\n",
       "<tr>\n",
       "  <th>Skew:</th>          <td> 0.014</td> <th>  Prob(JB):          </th> <td>7.18e-24</td>\n",
       "</tr>\n",
       "<tr>\n",
       "  <th>Kurtosis:</th>      <td> 3.918</td> <th>  Cond. No.          </th> <td>3.94e+07</td>\n",
       "</tr>\n",
       "</table>"
      ],
      "text/plain": [
       "<class 'statsmodels.iolib.summary.Summary'>\n",
       "\"\"\"\n",
       "                            OLS Regression Results                            \n",
       "==============================================================================\n",
       "Dep. Variable:                predict   R-squared:                       0.966\n",
       "Model:                            OLS   Adj. R-squared:                  0.966\n",
       "Method:                 Least Squares   F-statistic:                 4.358e+04\n",
       "Date:                Sun, 16 Oct 2016   Prob (F-statistic):               0.00\n",
       "Time:                        22:34:53   Log-Likelihood:                -14917.\n",
       "No. Observations:                3031   AIC:                         2.984e+04\n",
       "Df Residuals:                    3028   BIC:                         2.986e+04\n",
       "Df Model:                           2                                         \n",
       "Covariance Type:            nonrobust                                         \n",
       "==============================================================================\n",
       "                 coef    std err          t      P>|t|      [95.0% Conf. Int.]\n",
       "------------------------------------------------------------------------------\n",
       "Intercept     11.4546      1.984      5.772      0.000         7.564    15.346\n",
       "Close          0.9544      0.004    241.714      0.000         0.947     0.962\n",
       "Volume     -3.782e-07   8.66e-08     -4.369      0.000     -5.48e-07 -2.08e-07\n",
       "==============================================================================\n",
       "Omnibus:                       53.552   Durbin-Watson:                   0.073\n",
       "Prob(Omnibus):                  0.000   Jarque-Bera (JB):              106.582\n",
       "Skew:                           0.014   Prob(JB):                     7.18e-24\n",
       "Kurtosis:                       3.918   Cond. No.                     3.94e+07\n",
       "==============================================================================\n",
       "\n",
       "Warnings:\n",
       "[1] Standard Errors assume that the covariance matrix of the errors is correctly specified.\n",
       "[2] The condition number is large, 3.94e+07. This might indicate that there are\n",
       "strong multicollinearity or other numerical problems.\n",
       "\"\"\""
      ]
     },
     "execution_count": 17,
     "metadata": {},
     "output_type": "execute_result"
    }
   ],
   "source": [
    "lm2 = smf.ols(formula='predict ~ Close + Volume', data=df).fit()\n",
    "lm2.summary()"
   ]
  },
  {
   "cell_type": "markdown",
   "metadata": {},
   "source": [
    "Again, we have stellar quality paramters but let us check on the assumptions front. "
   ]
  },
  {
   "cell_type": "code",
   "execution_count": 18,
   "metadata": {
    "collapsed": false
   },
   "outputs": [
    {
     "data": {
      "text/plain": [
       "<matplotlib.text.Text at 0x11e2d7890>"
      ]
     },
     "execution_count": 18,
     "metadata": {},
     "output_type": "execute_result"
    },
    {
     "data": {
      "image/png": "[encoded data removed]",
      "text/plain": [
       "<matplotlib.figure.Figure at 0x11744c750>"
      ]
     },
     "metadata": {},
     "output_type": "display_data"
    }
   ],
   "source": [
    "preds = lm1.predict()  #Get the predictions for our training set.\n",
    "errors = preds - df[\"predict\"] #Calculate the errors\n",
    "time_data = np.array([df.iloc[i].name.to_datetime() for i in range(len(df))]) #generate an array of dates \n",
    "plt.bar(time_data, errors)\n",
    "plt.ylabel(\"Errors\")\n",
    "plt.xlabel(\"Time\")\n",
    "plt.title(\"Errors vs Time plot\")"
   ]
  },
  {
   "cell_type": "code",
   "execution_count": 19,
   "metadata": {
    "collapsed": false
   },
   "outputs": [
    {
     "data": {
      "text/plain": [
       "<matplotlib.text.Text at 0x121276d90>"
      ]
     },
     "execution_count": 19,
     "metadata": {},
     "output_type": "execute_result"
    },
    {
     "data": {
      "image/png": "[encoded data removed]",
      "text/plain": [
       "<matplotlib.figure.Figure at 0x11ddf46d0>"
      ]
     },
     "metadata": {},
     "output_type": "display_data"
    }
   ],
   "source": [
    "errors = lm2.predict() - df[\"predict\"]\n",
    "plt.hist(errors, bins = 100)\n",
    "plt.xlabel(\"Errors\")\n",
    "plt.ylabel(\"Frequency\")\n",
    "plt.title(\"Distribution of Errors\")"
   ]
  },
  {
   "cell_type": "markdown",
   "metadata": {},
   "source": [
    "Adding *Volume* label doesn't make things any better. We have the same problems as before. Another approach we could take is transforming the variables. Violations can arise if the relationship between the dependent and target variables is not a linear one. Trying to a fit a linear model to variables with non-linear relationships can especially lead to errors which don't have constant variance. \n",
    "\n",
    "Stocks are often observed to show almost a constant percent change over time. In such a case, the relationship is a multiplicative one, not a linear and additive one. Applying a log transformation to all the variables turns this relationship into a linear and additive one. "
   ]
  },
  {
   "cell_type": "code",
   "execution_count": 20,
   "metadata": {
    "collapsed": false
   },
   "outputs": [
    {
     "data": {
      "text/html": [
       "<table class=\"simpletable\">\n",
       "<caption>OLS Regression Results</caption>\n",
       "<tr>\n",
       "  <th>Dep. Variable:</th>     <td>np.log(predict)</td> <th>  R-squared:         </th> <td>   0.956</td> \n",
       "</tr>\n",
       "<tr>\n",
       "  <th>Model:</th>                   <td>OLS</td>       <th>  Adj. R-squared:    </th> <td>   0.956</td> \n",
       "</tr>\n",
       "<tr>\n",
       "  <th>Method:</th>             <td>Least Squares</td>  <th>  F-statistic:       </th> <td>6.640e+04</td>\n",
       "</tr>\n",
       "<tr>\n",
       "  <th>Date:</th>             <td>Sun, 16 Oct 2016</td> <th>  Prob (F-statistic):</th>  <td>  0.00</td>  \n",
       "</tr>\n",
       "<tr>\n",
       "  <th>Time:</th>                 <td>22:35:12</td>     <th>  Log-Likelihood:    </th> <td>  2261.8</td> \n",
       "</tr>\n",
       "<tr>\n",
       "  <th>No. Observations:</th>      <td>  3031</td>      <th>  AIC:               </th> <td>  -4520.</td> \n",
       "</tr>\n",
       "<tr>\n",
       "  <th>Df Residuals:</th>          <td>  3029</td>      <th>  BIC:               </th> <td>  -4508.</td> \n",
       "</tr>\n",
       "<tr>\n",
       "  <th>Df Model:</th>              <td>     1</td>      <th>                     </th>     <td> </td>    \n",
       "</tr>\n",
       "<tr>\n",
       "  <th>Covariance Type:</th>      <td>nonrobust</td>    <th>                     </th>     <td> </td>    \n",
       "</tr>\n",
       "</table>\n",
       "<table class=\"simpletable\">\n",
       "<tr>\n",
       "        <td></td>           <th>coef</th>     <th>std err</th>      <th>t</th>      <th>P>|t|</th> <th>[95.0% Conf. Int.]</th> \n",
       "</tr>\n",
       "<tr>\n",
       "  <th>Intercept</th>     <td>   -0.0866</td> <td>    0.023</td> <td>   -3.849</td> <td> 0.000</td> <td>   -0.131    -0.042</td>\n",
       "</tr>\n",
       "<tr>\n",
       "  <th>np.log(Close)</th> <td>    1.0104</td> <td>    0.004</td> <td>  257.673</td> <td> 0.000</td> <td>    1.003     1.018</td>\n",
       "</tr>\n",
       "</table>\n",
       "<table class=\"simpletable\">\n",
       "<tr>\n",
       "  <th>Omnibus:</th>       <td>89.594</td> <th>  Durbin-Watson:     </th> <td>   0.058</td>\n",
       "</tr>\n",
       "<tr>\n",
       "  <th>Prob(Omnibus):</th> <td> 0.000</td> <th>  Jarque-Bera (JB):  </th> <td> 219.564</td>\n",
       "</tr>\n",
       "<tr>\n",
       "  <th>Skew:</th>          <td>-0.082</td> <th>  Prob(JB):          </th> <td>2.10e-48</td>\n",
       "</tr>\n",
       "<tr>\n",
       "  <th>Kurtosis:</th>      <td> 4.308</td> <th>  Cond. No.          </th> <td>    63.9</td>\n",
       "</tr>\n",
       "</table>"
      ],
      "text/plain": [
       "<class 'statsmodels.iolib.summary.Summary'>\n",
       "\"\"\"\n",
       "                            OLS Regression Results                            \n",
       "==============================================================================\n",
       "Dep. Variable:        np.log(predict)   R-squared:                       0.956\n",
       "Model:                            OLS   Adj. R-squared:                  0.956\n",
       "Method:                 Least Squares   F-statistic:                 6.640e+04\n",
       "Date:                Sun, 16 Oct 2016   Prob (F-statistic):               0.00\n",
       "Time:                        22:35:12   Log-Likelihood:                 2261.8\n",
       "No. Observations:                3031   AIC:                            -4520.\n",
       "Df Residuals:                    3029   BIC:                            -4508.\n",
       "Df Model:                           1                                         \n",
       "Covariance Type:            nonrobust                                         \n",
       "=================================================================================\n",
       "                    coef    std err          t      P>|t|      [95.0% Conf. Int.]\n",
       "---------------------------------------------------------------------------------\n",
       "Intercept        -0.0866      0.023     -3.849      0.000        -0.131    -0.042\n",
       "np.log(Close)     1.0104      0.004    257.673      0.000         1.003     1.018\n",
       "==============================================================================\n",
       "Omnibus:                       89.594   Durbin-Watson:                   0.058\n",
       "Prob(Omnibus):                  0.000   Jarque-Bera (JB):              219.564\n",
       "Skew:                          -0.082   Prob(JB):                     2.10e-48\n",
       "Kurtosis:                       4.308   Cond. No.                         63.9\n",
       "==============================================================================\n",
       "\n",
       "Warnings:\n",
       "[1] Standard Errors assume that the covariance matrix of the errors is correctly specified.\n",
       "\"\"\""
      ]
     },
     "execution_count": 20,
     "metadata": {},
     "output_type": "execute_result"
    }
   ],
   "source": [
    "lm3 = smf.ols(formula='np.log(predict) ~ np.log(Close)', data=df).fit()\n",
    "lm3.summary()"
   ]
  },
  {
   "cell_type": "markdown",
   "metadata": {},
   "source": [
    "Again, we obtain satisfactory values. Let's check how the errors pan out. "
   ]
  },
  {
   "cell_type": "code",
   "execution_count": 21,
   "metadata": {
    "collapsed": false
   },
   "outputs": [
    {
     "data": {
      "text/plain": [
       "<matplotlib.text.Text at 0x123e46350>"
      ]
     },
     "execution_count": 21,
     "metadata": {},
     "output_type": "execute_result"
    },
    {
     "data": {
      "image/png": "[encoded data removed]",
      "text/plain": [
       "<matplotlib.figure.Figure at 0x11ddf4790>"
      ]
     },
     "metadata": {},
     "output_type": "display_data"
    }
   ],
   "source": [
    "preds = lm3.predict()\n",
    "errors = preds - np.log(df[\"predict\"])\n",
    "time_data = np.array([df.iloc[i].name.to_datetime() for i in range(len(df))]) #generate an array of dates \n",
    "plt.bar(time_data, errors)\n",
    "plt.ylabel(\"Errors\")\n",
    "plt.xlabel(\"Time\")\n",
    "plt.title(\"Errors vs Time plot\")"
   ]
  },
  {
   "cell_type": "code",
   "execution_count": 22,
   "metadata": {
    "collapsed": false
   },
   "outputs": [
    {
     "data": {
      "text/plain": [
       "(array([   2.,    1.,    1.,    0.,    3.,    4.,    6.,   10.,    5.,\n",
       "           5.,    3.,    7.,   10.,    3.,   10.,    8.,   13.,    4.,\n",
       "           6.,    9.,    4.,   13.,   11.,   14.,   22.,   25.,   35.,\n",
       "          40.,   52.,   49.,   54.,   64.,   80.,  100.,   78.,   93.,\n",
       "          95.,   91.,  105.,  106.,  112.,   93.,  108.,  101.,  103.,\n",
       "         104.,  124.,  112.,  110.,   89.,   89.,   75.,   48.,   63.,\n",
       "          61.,   39.,   36.,   32.,   35.,   27.,   29.,   22.,   22.,\n",
       "          20.,   21.,   22.,   20.,    9.,   10.,    8.,    6.,    4.,\n",
       "           4.,    6.,    3.,    1.,    3.,    3.,    1.,    1.,    1.,\n",
       "           0.,    2.,    0.,    0.,    2.,    0.,    0.,    0.,    0.,\n",
       "           2.,    0.,    0.,    3.,    2.,    0.,    1.,    0.,    0.,    1.]),\n",
       " array([-0.39916384, -0.38980532, -0.38044681, -0.37108829, -0.36172977,\n",
       "        -0.35237126, -0.34301274, -0.33365422, -0.32429571, -0.31493719,\n",
       "        -0.30557868, -0.29622016, -0.28686164, -0.27750313, -0.26814461,\n",
       "        -0.2587861 , -0.24942758, -0.24006906, -0.23071055, -0.22135203,\n",
       "        -0.21199351, -0.202635  , -0.19327648, -0.18391797, -0.17455945,\n",
       "        -0.16520093, -0.15584242, -0.1464839 , -0.13712538, -0.12776687,\n",
       "        -0.11840835, -0.10904984, -0.09969132, -0.0903328 , -0.08097429,\n",
       "        -0.07161577, -0.06225725, -0.05289874, -0.04354022, -0.03418171,\n",
       "        -0.02482319, -0.01546467, -0.00610616,  0.00325236,  0.01261088,\n",
       "         0.02196939,  0.03132791,  0.04068642,  0.05004494,  0.05940346,\n",
       "         0.06876197,  0.07812049,  0.087479  ,  0.09683752,  0.10619604,\n",
       "         0.11555455,  0.12491307,  0.13427159,  0.1436301 ,  0.15298862,\n",
       "         0.16234713,  0.17170565,  0.18106417,  0.19042268,  0.1997812 ,\n",
       "         0.20913972,  0.21849823,  0.22785675,  0.23721526,  0.24657378,\n",
       "         0.2559323 ,  0.26529081,  0.27464933,  0.28400785,  0.29336636,\n",
       "         0.30272488,  0.31208339,  0.32144191,  0.33080043,  0.34015894,\n",
       "         0.34951746,  0.35887598,  0.36823449,  0.37759301,  0.38695152,\n",
       "         0.39631004,  0.40566856,  0.41502707,  0.42438559,  0.4337441 ,\n",
       "         0.44310262,  0.45246114,  0.46181965,  0.47117817,  0.48053669,\n",
       "         0.4898952 ,  0.49925372,  0.50861223,  0.51797075,  0.52732927,\n",
       "         0.53668778]),\n",
       " <a list of 100 Patch objects>)"
      ]
     },
     "execution_count": 22,
     "metadata": {},
     "output_type": "execute_result"
    },
    {
     "data": {
      "image/png": "[encoded data removed]",
      "text/plain": [
       "<matplotlib.figure.Figure at 0x12287eb50>"
      ]
     },
     "metadata": {},
     "output_type": "display_data"
    }
   ],
   "source": [
    "plt.hist(errors, bins = 100)"
   ]
  },
  {
   "cell_type": "markdown",
   "metadata": {},
   "source": [
    "We can see considerable improvement in terms of variance of errors is concerned, which is much more stabilished than before. The pike near 2008 can be attributed to the 2008 economy crisis, and the model can be excused for not being able to generalise to that. However, the problem of autocorrelation is still evident. The distribution of errors is somewhat normal, so now the bulk of efforts have to geared towards addressing the autocorrelation."
   ]
  },
  {
   "cell_type": "code",
   "execution_count": 23,
   "metadata": {
    "collapsed": false
   },
   "outputs": [
    {
     "data": {
      "text/plain": [
       "0.97080356564444448"
      ]
     },
     "execution_count": 23,
     "metadata": {},
     "output_type": "execute_result"
    }
   ],
   "source": [
    "errors.autocorr()"
   ]
  },
  {
   "cell_type": "markdown",
   "metadata": {},
   "source": [
    "As we can see, it's still staggeringly high. There are a few methods we can try to get rid of autocorrelation. One of them includes adding a time variable that can account for autocorrelation while training the model. I am going to have a time variable that starts from 1 and gets incremented every 5 rows. "
   ]
  },
  {
   "cell_type": "code",
   "execution_count": 24,
   "metadata": {
    "collapsed": false
   },
   "outputs": [
    {
     "data": {
      "text/html": [
       "<table class=\"simpletable\">\n",
       "<caption>OLS Regression Results</caption>\n",
       "<tr>\n",
       "  <th>Dep. Variable:</th>     <td>np.log(predict)</td> <th>  R-squared:         </th> <td>   0.957</td> \n",
       "</tr>\n",
       "<tr>\n",
       "  <th>Model:</th>                   <td>OLS</td>       <th>  Adj. R-squared:    </th> <td>   0.957</td> \n",
       "</tr>\n",
       "<tr>\n",
       "  <th>Method:</th>             <td>Least Squares</td>  <th>  F-statistic:       </th> <td>3.408e+04</td>\n",
       "</tr>\n",
       "<tr>\n",
       "  <th>Date:</th>             <td>Sun, 16 Oct 2016</td> <th>  Prob (F-statistic):</th>  <td>  0.00</td>  \n",
       "</tr>\n",
       "<tr>\n",
       "  <th>Time:</th>                 <td>22:35:29</td>     <th>  Log-Likelihood:    </th> <td>  2300.2</td> \n",
       "</tr>\n",
       "<tr>\n",
       "  <th>No. Observations:</th>      <td>  3031</td>      <th>  AIC:               </th> <td>  -4594.</td> \n",
       "</tr>\n",
       "<tr>\n",
       "  <th>Df Residuals:</th>          <td>  3028</td>      <th>  BIC:               </th> <td>  -4576.</td> \n",
       "</tr>\n",
       "<tr>\n",
       "  <th>Df Model:</th>              <td>     2</td>      <th>                     </th>     <td> </td>    \n",
       "</tr>\n",
       "<tr>\n",
       "  <th>Covariance Type:</th>      <td>nonrobust</td>    <th>                     </th>     <td> </td>    \n",
       "</tr>\n",
       "</table>\n",
       "<table class=\"simpletable\">\n",
       "<tr>\n",
       "        <td></td>           <th>coef</th>     <th>std err</th>      <th>t</th>      <th>P>|t|</th> <th>[95.0% Conf. Int.]</th> \n",
       "</tr>\n",
       "<tr>\n",
       "  <th>Intercept</th>     <td>    0.2811</td> <td>    0.047</td> <td>    5.950</td> <td> 0.000</td> <td>    0.188     0.374</td>\n",
       "</tr>\n",
       "<tr>\n",
       "  <th>np.log(Close)</th> <td>    0.9323</td> <td>    0.010</td> <td>   96.537</td> <td> 0.000</td> <td>    0.913     0.951</td>\n",
       "</tr>\n",
       "<tr>\n",
       "  <th>time</th>          <td>    0.0003</td> <td> 2.93e-05</td> <td>    8.821</td> <td> 0.000</td> <td>    0.000     0.000</td>\n",
       "</tr>\n",
       "</table>\n",
       "<table class=\"simpletable\">\n",
       "<tr>\n",
       "  <th>Omnibus:</th>       <td>113.932</td> <th>  Durbin-Watson:     </th> <td>   0.055</td>\n",
       "</tr>\n",
       "<tr>\n",
       "  <th>Prob(Omnibus):</th> <td> 0.000</td>  <th>  Jarque-Bera (JB):  </th> <td> 329.607</td>\n",
       "</tr>\n",
       "<tr>\n",
       "  <th>Skew:</th>          <td>-0.068</td>  <th>  Prob(JB):          </th> <td>2.67e-72</td>\n",
       "</tr>\n",
       "<tr>\n",
       "  <th>Kurtosis:</th>      <td> 4.610</td>  <th>  Cond. No.          </th> <td>8.19e+03</td>\n",
       "</tr>\n",
       "</table>"
      ],
      "text/plain": [
       "<class 'statsmodels.iolib.summary.Summary'>\n",
       "\"\"\"\n",
       "                            OLS Regression Results                            \n",
       "==============================================================================\n",
       "Dep. Variable:        np.log(predict)   R-squared:                       0.957\n",
       "Model:                            OLS   Adj. R-squared:                  0.957\n",
       "Method:                 Least Squares   F-statistic:                 3.408e+04\n",
       "Date:                Sun, 16 Oct 2016   Prob (F-statistic):               0.00\n",
       "Time:                        22:35:29   Log-Likelihood:                 2300.2\n",
       "No. Observations:                3031   AIC:                            -4594.\n",
       "Df Residuals:                    3028   BIC:                            -4576.\n",
       "Df Model:                           2                                         \n",
       "Covariance Type:            nonrobust                                         \n",
       "=================================================================================\n",
       "                    coef    std err          t      P>|t|      [95.0% Conf. Int.]\n",
       "---------------------------------------------------------------------------------\n",
       "Intercept         0.2811      0.047      5.950      0.000         0.188     0.374\n",
       "np.log(Close)     0.9323      0.010     96.537      0.000         0.913     0.951\n",
       "time              0.0003   2.93e-05      8.821      0.000         0.000     0.000\n",
       "==============================================================================\n",
       "Omnibus:                      113.932   Durbin-Watson:                   0.055\n",
       "Prob(Omnibus):                  0.000   Jarque-Bera (JB):              329.607\n",
       "Skew:                          -0.068   Prob(JB):                     2.67e-72\n",
       "Kurtosis:                       4.610   Cond. No.                     8.19e+03\n",
       "==============================================================================\n",
       "\n",
       "Warnings:\n",
       "[1] Standard Errors assume that the covariance matrix of the errors is correctly specified.\n",
       "[2] The condition number is large, 8.19e+03. This might indicate that there are\n",
       "strong multicollinearity or other numerical problems.\n",
       "\"\"\""
      ]
     },
     "execution_count": 24,
     "metadata": {},
     "output_type": "execute_result"
    }
   ],
   "source": [
    "time = [i/5 for i in range(1, (len(df) + 1))]\n",
    "lm4 = smf.ols(formula='np.log(predict) ~ np.log(Close) + time', data=df).fit()\n",
    "lm4.summary()"
   ]
  },
  {
   "cell_type": "code",
   "execution_count": 25,
   "metadata": {
    "collapsed": false
   },
   "outputs": [
    {
     "data": {
      "text/plain": [
       "<matplotlib.text.Text at 0x12a039ad0>"
      ]
     },
     "execution_count": 25,
     "metadata": {},
     "output_type": "execute_result"
    },
    {
     "data": {
      "image/png": "[encoded data removed]",
      "text/plain": [
       "<matplotlib.figure.Figure at 0x1179a67d0>"
      ]
     },
     "metadata": {},
     "output_type": "display_data"
    }
   ],
   "source": [
    "preds = lm4.predict()\n",
    "errors = preds - np.log(df[\"predict\"])\n",
    "time_data = np.array([df.iloc[i].name.to_datetime() for i in range(len(df))]) #generate an array of dates \n",
    "plt.bar(time_data, errors)\n",
    "plt.ylabel(\"Errors\")\n",
    "plt.xlabel(\"Time\")\n",
    "plt.title(\"Errors vs Time plot\")"
   ]
  },
  {
   "cell_type": "code",
   "execution_count": 26,
   "metadata": {
    "collapsed": false
   },
   "outputs": [
    {
     "data": {
      "text/plain": [
       "0.97226583613383333"
      ]
     },
     "execution_count": 26,
     "metadata": {},
     "output_type": "execute_result"
    }
   ],
   "source": [
    "errors.autocorr()"
   ]
  },
  {
   "cell_type": "markdown",
   "metadata": {},
   "source": [
    "Again, we see that the added time variable hardly makes a difference to our results. Another way of addressing autocorrelation is to add a lagged variable of independent variable as a feature while modelling the data. let's go ahead and do that.  "
   ]
  },
  {
   "cell_type": "code",
   "execution_count": 27,
   "metadata": {
    "collapsed": false
   },
   "outputs": [],
   "source": [
    "df['lagged'] = df['predict'].shift(1)\n",
    "df.dropna(inplace=True)"
   ]
  },
  {
   "cell_type": "code",
   "execution_count": 28,
   "metadata": {
    "collapsed": false
   },
   "outputs": [
    {
     "data": {
      "text/html": [
       "<table class=\"simpletable\">\n",
       "<caption>OLS Regression Results</caption>\n",
       "<tr>\n",
       "  <th>Dep. Variable:</th>     <td>np.log(predict)</td> <th>  R-squared:         </th>  <td>   0.999</td> \n",
       "</tr>\n",
       "<tr>\n",
       "  <th>Model:</th>                   <td>OLS</td>       <th>  Adj. R-squared:    </th>  <td>   0.999</td> \n",
       "</tr>\n",
       "<tr>\n",
       "  <th>Method:</th>             <td>Least Squares</td>  <th>  F-statistic:       </th>  <td>1.203e+06</td>\n",
       "</tr>\n",
       "<tr>\n",
       "  <th>Date:</th>             <td>Sun, 16 Oct 2016</td> <th>  Prob (F-statistic):</th>   <td>  0.00</td>  \n",
       "</tr>\n",
       "<tr>\n",
       "  <th>Time:</th>                 <td>22:35:44</td>     <th>  Log-Likelihood:    </th>  <td>  7639.5</td> \n",
       "</tr>\n",
       "<tr>\n",
       "  <th>No. Observations:</th>      <td>  3030</td>      <th>  AIC:               </th> <td>-1.527e+04</td>\n",
       "</tr>\n",
       "<tr>\n",
       "  <th>Df Residuals:</th>          <td>  3027</td>      <th>  BIC:               </th> <td>-1.525e+04</td>\n",
       "</tr>\n",
       "<tr>\n",
       "  <th>Df Model:</th>              <td>     2</td>      <th>                     </th>      <td> </td>    \n",
       "</tr>\n",
       "<tr>\n",
       "  <th>Covariance Type:</th>      <td>nonrobust</td>    <th>                     </th>      <td> </td>    \n",
       "</tr>\n",
       "</table>\n",
       "<table class=\"simpletable\">\n",
       "<tr>\n",
       "         <td></td>           <th>coef</th>     <th>std err</th>      <th>t</th>      <th>P>|t|</th> <th>[95.0% Conf. Int.]</th> \n",
       "</tr>\n",
       "<tr>\n",
       "  <th>Intercept</th>      <td>    0.0006</td> <td>    0.004</td> <td>    0.151</td> <td> 0.880</td> <td>   -0.007     0.008</td>\n",
       "</tr>\n",
       "<tr>\n",
       "  <th>np.log(Close)</th>  <td>    0.0316</td> <td>    0.003</td> <td>   10.102</td> <td> 0.000</td> <td>    0.025     0.038</td>\n",
       "</tr>\n",
       "<tr>\n",
       "  <th>np.log(lagged)</th> <td>    0.9683</td> <td>    0.003</td> <td>  319.732</td> <td> 0.000</td> <td>    0.962     0.974</td>\n",
       "</tr>\n",
       "</table>\n",
       "<table class=\"simpletable\">\n",
       "<tr>\n",
       "  <th>Omnibus:</th>       <td>712.102</td> <th>  Durbin-Watson:     </th> <td>   1.985</td> \n",
       "</tr>\n",
       "<tr>\n",
       "  <th>Prob(Omnibus):</th> <td> 0.000</td>  <th>  Jarque-Bera (JB):  </th> <td>10850.512</td>\n",
       "</tr>\n",
       "<tr>\n",
       "  <th>Skew:</th>          <td> 0.691</td>  <th>  Prob(JB):          </th> <td>    0.00</td> \n",
       "</tr>\n",
       "<tr>\n",
       "  <th>Kurtosis:</th>      <td>12.167</td>  <th>  Cond. No.          </th> <td>    104.</td> \n",
       "</tr>\n",
       "</table>"
      ],
      "text/plain": [
       "<class 'statsmodels.iolib.summary.Summary'>\n",
       "\"\"\"\n",
       "                            OLS Regression Results                            \n",
       "==============================================================================\n",
       "Dep. Variable:        np.log(predict)   R-squared:                       0.999\n",
       "Model:                            OLS   Adj. R-squared:                  0.999\n",
       "Method:                 Least Squares   F-statistic:                 1.203e+06\n",
       "Date:                Sun, 16 Oct 2016   Prob (F-statistic):               0.00\n",
       "Time:                        22:35:44   Log-Likelihood:                 7639.5\n",
       "No. Observations:                3030   AIC:                        -1.527e+04\n",
       "Df Residuals:                    3027   BIC:                        -1.525e+04\n",
       "Df Model:                           2                                         \n",
       "Covariance Type:            nonrobust                                         \n",
       "==================================================================================\n",
       "                     coef    std err          t      P>|t|      [95.0% Conf. Int.]\n",
       "----------------------------------------------------------------------------------\n",
       "Intercept          0.0006      0.004      0.151      0.880        -0.007     0.008\n",
       "np.log(Close)      0.0316      0.003     10.102      0.000         0.025     0.038\n",
       "np.log(lagged)     0.9683      0.003    319.732      0.000         0.962     0.974\n",
       "==============================================================================\n",
       "Omnibus:                      712.102   Durbin-Watson:                   1.985\n",
       "Prob(Omnibus):                  0.000   Jarque-Bera (JB):            10850.512\n",
       "Skew:                           0.691   Prob(JB):                         0.00\n",
       "Kurtosis:                      12.167   Cond. No.                         104.\n",
       "==============================================================================\n",
       "\n",
       "Warnings:\n",
       "[1] Standard Errors assume that the covariance matrix of the errors is correctly specified.\n",
       "\"\"\""
      ]
     },
     "execution_count": 28,
     "metadata": {},
     "output_type": "execute_result"
    }
   ],
   "source": [
    "lm5 = smf.ols(formula='np.log(predict) ~ np.log(Close) + np.log(lagged)', data=df).fit()\n",
    "lm5.summary()"
   ]
  },
  {
   "cell_type": "code",
   "execution_count": 29,
   "metadata": {
    "collapsed": false
   },
   "outputs": [
    {
     "data": {
      "text/plain": [
       "<matplotlib.text.Text at 0x12ea5f610>"
      ]
     },
     "execution_count": 29,
     "metadata": {},
     "output_type": "execute_result"
    },
    {
     "data": {
      "image/png": "[encoded data removed]",
      "text/plain": [
       "<matplotlib.figure.Figure at 0x129571fd0>"
      ]
     },
     "metadata": {},
     "output_type": "display_data"
    }
   ],
   "source": [
    "preds = lm5.predict()\n",
    "errors = preds - np.log(df[\"predict\"])\n",
    "time_data = np.array([df.iloc[i].name.to_datetime() for i in range(len(df))]) #generate an array of dates \n",
    "plt.bar(time_data, errors)\n",
    "plt.ylabel(\"Errors\")\n",
    "plt.xlabel(\"Time\")\n",
    "plt.title(\"Errors vs Time plot\")"
   ]
  },
  {
   "cell_type": "code",
   "execution_count": 30,
   "metadata": {
    "collapsed": false
   },
   "outputs": [
    {
     "data": {
      "text/plain": [
       "0.0055920888165946966"
      ]
     },
     "execution_count": 30,
     "metadata": {},
     "output_type": "execute_result"
    }
   ],
   "source": [
    "errors.autocorr()"
   ]
  },
  {
   "cell_type": "code",
   "execution_count": 31,
   "metadata": {
    "collapsed": false
   },
   "outputs": [
    {
     "data": {
      "text/plain": [
       "<matplotlib.text.Text at 0x131f31f10>"
      ]
     },
     "execution_count": 31,
     "metadata": {},
     "output_type": "execute_result"
    },
    {
     "data": {
      "image/png": "[encoded data removed]",
      "text/plain": [
       "<matplotlib.figure.Figure at 0x12c6ed3d0>"
      ]
     },
     "metadata": {},
     "output_type": "display_data"
    }
   ],
   "source": [
    "errors = lm5.predict() - np.log(df[\"predict\"])\n",
    "plt.hist(errors, bins = 100)\n",
    "plt.xlabel(\"Errors\")\n",
    "plt.ylabel(\"Frequency\")\n",
    "plt.title(\"Distribution of Errors\")"
   ]
  },
  {
   "cell_type": "markdown",
   "metadata": {},
   "source": [
    "Alas! Adding the lagged variable not only improves the variance of the errors, but it also takes care of the autocorrelation which is negiligibly low now. Also, the error distribution is also close to normal now. However, there's one thing of which I want to take note here. In spirit of keeping models as simple as possible, how about we try to drop the *Closed* variable? Though the p-value of the variable *Close* is satisfactory, let us just try, for the sake of experiment, fitting a model with just the lagged logged variables. "
   ]
  },
  {
   "cell_type": "code",
   "execution_count": 32,
   "metadata": {
    "collapsed": false
   },
   "outputs": [
    {
     "data": {
      "text/html": [
       "<table class=\"simpletable\">\n",
       "<caption>OLS Regression Results</caption>\n",
       "<tr>\n",
       "  <th>Dep. Variable:</th>     <td>np.log(predict)</td> <th>  R-squared:         </th>  <td>   0.999</td> \n",
       "</tr>\n",
       "<tr>\n",
       "  <th>Model:</th>                   <td>OLS</td>       <th>  Adj. R-squared:    </th>  <td>   0.999</td> \n",
       "</tr>\n",
       "<tr>\n",
       "  <th>Method:</th>             <td>Least Squares</td>  <th>  F-statistic:       </th>  <td>2.327e+06</td>\n",
       "</tr>\n",
       "<tr>\n",
       "  <th>Date:</th>             <td>Sun, 16 Oct 2016</td> <th>  Prob (F-statistic):</th>   <td>  0.00</td>  \n",
       "</tr>\n",
       "<tr>\n",
       "  <th>Time:</th>                 <td>22:37:29</td>     <th>  Log-Likelihood:    </th>  <td>  7589.2</td> \n",
       "</tr>\n",
       "<tr>\n",
       "  <th>No. Observations:</th>      <td>  3030</td>      <th>  AIC:               </th> <td>-1.517e+04</td>\n",
       "</tr>\n",
       "<tr>\n",
       "  <th>Df Residuals:</th>          <td>  3028</td>      <th>  BIC:               </th> <td>-1.516e+04</td>\n",
       "</tr>\n",
       "<tr>\n",
       "  <th>Df Model:</th>              <td>     1</td>      <th>                     </th>      <td> </td>    \n",
       "</tr>\n",
       "<tr>\n",
       "  <th>Covariance Type:</th>      <td>nonrobust</td>    <th>                     </th>      <td> </td>    \n",
       "</tr>\n",
       "</table>\n",
       "<table class=\"simpletable\">\n",
       "<tr>\n",
       "         <td></td>           <th>coef</th>     <th>std err</th>      <th>t</th>      <th>P>|t|</th> <th>[95.0% Conf. Int.]</th> \n",
       "</tr>\n",
       "<tr>\n",
       "  <th>Intercept</th>      <td>    0.0114</td> <td>    0.004</td> <td>    3.037</td> <td> 0.002</td> <td>    0.004     0.019</td>\n",
       "</tr>\n",
       "<tr>\n",
       "  <th>np.log(lagged)</th> <td>    0.9982</td> <td>    0.001</td> <td> 1525.547</td> <td> 0.000</td> <td>    0.997     0.999</td>\n",
       "</tr>\n",
       "</table>\n",
       "<table class=\"simpletable\">\n",
       "<tr>\n",
       "  <th>Omnibus:</th>       <td>659.060</td> <th>  Durbin-Watson:     </th> <td>   1.977</td> \n",
       "</tr>\n",
       "<tr>\n",
       "  <th>Prob(Omnibus):</th> <td> 0.000</td>  <th>  Jarque-Bera (JB):  </th> <td>11352.001</td>\n",
       "</tr>\n",
       "<tr>\n",
       "  <th>Skew:</th>          <td> 0.560</td>  <th>  Prob(JB):          </th> <td>    0.00</td> \n",
       "</tr>\n",
       "<tr>\n",
       "  <th>Kurtosis:</th>      <td>12.416</td>  <th>  Cond. No.          </th> <td>    61.3</td> \n",
       "</tr>\n",
       "</table>"
      ],
      "text/plain": [
       "<class 'statsmodels.iolib.summary.Summary'>\n",
       "\"\"\"\n",
       "                            OLS Regression Results                            \n",
       "==============================================================================\n",
       "Dep. Variable:        np.log(predict)   R-squared:                       0.999\n",
       "Model:                            OLS   Adj. R-squared:                  0.999\n",
       "Method:                 Least Squares   F-statistic:                 2.327e+06\n",
       "Date:                Sun, 16 Oct 2016   Prob (F-statistic):               0.00\n",
       "Time:                        22:37:29   Log-Likelihood:                 7589.2\n",
       "No. Observations:                3030   AIC:                        -1.517e+04\n",
       "Df Residuals:                    3028   BIC:                        -1.516e+04\n",
       "Df Model:                           1                                         \n",
       "Covariance Type:            nonrobust                                         \n",
       "==================================================================================\n",
       "                     coef    std err          t      P>|t|      [95.0% Conf. Int.]\n",
       "----------------------------------------------------------------------------------\n",
       "Intercept          0.0114      0.004      3.037      0.002         0.004     0.019\n",
       "np.log(lagged)     0.9982      0.001   1525.547      0.000         0.997     0.999\n",
       "==============================================================================\n",
       "Omnibus:                      659.060   Durbin-Watson:                   1.977\n",
       "Prob(Omnibus):                  0.000   Jarque-Bera (JB):            11352.001\n",
       "Skew:                           0.560   Prob(JB):                         0.00\n",
       "Kurtosis:                      12.416   Cond. No.                         61.3\n",
       "==============================================================================\n",
       "\n",
       "Warnings:\n",
       "[1] Standard Errors assume that the covariance matrix of the errors is correctly specified.\n",
       "\"\"\""
      ]
     },
     "execution_count": 32,
     "metadata": {},
     "output_type": "execute_result"
    }
   ],
   "source": [
    "lm6 = smf.ols(formula='np.log(predict) ~ np.log(lagged)', data=df).fit()\n",
    "lm6.summary()"
   ]
  },
  {
   "cell_type": "code",
   "execution_count": 33,
   "metadata": {
    "collapsed": false
   },
   "outputs": [
    {
     "data": {
      "text/plain": [
       "<matplotlib.text.Text at 0x13715e350>"
      ]
     },
     "execution_count": 33,
     "metadata": {},
     "output_type": "execute_result"
    },
    {
     "data": {
      "image/png": "[encoded data removed]",
      "text/plain": [
       "<matplotlib.figure.Figure at 0x12caace10>"
      ]
     },
     "metadata": {},
     "output_type": "display_data"
    }
   ],
   "source": [
    "preds = lm6.predict()\n",
    "errors = preds - np.log(df[\"predict\"])\n",
    "time_data = np.array([df.iloc[i].name.to_datetime() for i in range(len(df))]) #generate an array of dates \n",
    "plt.bar(time_data, errors)\n",
    "plt.ylabel(\"Errors\")\n",
    "plt.xlabel(\"Time\")\n",
    "plt.title(\"Errors vs Time plot\")"
   ]
  },
  {
   "cell_type": "code",
   "execution_count": 34,
   "metadata": {
    "collapsed": false
   },
   "outputs": [
    {
     "data": {
      "text/plain": [
       "0.0093847991468647869"
      ]
     },
     "execution_count": 34,
     "metadata": {},
     "output_type": "execute_result"
    }
   ],
   "source": [
    "errors.autocorr()"
   ]
  },
  {
   "cell_type": "markdown",
   "metadata": {},
   "source": [
    "Surprisingly, the autocorrelation increases but it's still not significant. Does this mean should we go with a simpler model? The answer is not a very decisive one. We need to test how the model performs on the validation data, and test data to be sure of which model to go with. **The test for assumptions only tell us whether the quality factors of the model are to be trusted or not. They don't tell us directly about the quality of the linear model** That's the job of quality factors given the assumptions hold true.\n",
    "\n"
   ]
  }
 ],
 "metadata": {
  "anaconda-cloud": {},
  "kernelspec": {
   "display_name": "Python [Root]",
   "language": "python",
   "name": "Python [Root]"
  },
  "language_info": {
   "codemirror_mode": {
    "name": "ipython",
    "version": 2
   },
   "file_extension": ".py",
   "mimetype": "text/x-python",
   "name": "python",
   "nbconvert_exporter": "python",
   "pygments_lexer": "ipython2",
   "version": "2.7.12"
  }
 },
 "nbformat": 4,
 "nbformat_minor": 0
}
